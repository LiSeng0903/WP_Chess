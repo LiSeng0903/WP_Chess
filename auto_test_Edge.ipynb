{
 "cells": [
  {
   "cell_type": "code",
   "execution_count": 2,
   "metadata": {},
   "outputs": [],
   "source": [
    "from selenium import webdriver\n",
    "import time "
   ]
  },
  {
   "cell_type": "code",
   "execution_count": 3,
   "metadata": {},
   "outputs": [
    {
     "ename": "NoSuchElementException",
     "evalue": "Message: no such element: Unable to locate element: {\"method\":\"css selector\",\"selector\":\"[id=\"basic_userName\"]\"}\n  (Session info: MicrosoftEdge=108.0.1462.54)\n",
     "output_type": "error",
     "traceback": [
      "\u001b[1;31m---------------------------------------------------------------------------\u001b[0m",
      "\u001b[1;31mNoSuchElementException\u001b[0m                    Traceback (most recent call last)",
      "\u001b[1;32mc:\\PuSung\\University\\111_Junior\\111-1 Academic\\Web Programming\\Final\\WP_Chess\\auto_test_Edge.ipynb Cell 2\u001b[0m in \u001b[0;36m<cell line: 4>\u001b[1;34m()\u001b[0m\n\u001b[0;32m      <a href='vscode-notebook-cell:/c%3A/PuSung/University/111_Junior/111-1%20Academic/Web%20Programming/Final/WP_Chess/auto_test_Edge.ipynb#W1sZmlsZQ%3D%3D?line=0'>1</a>\u001b[0m driver \u001b[39m=\u001b[39m webdriver\u001b[39m.\u001b[39mEdge( executable_path\u001b[39m=\u001b[39m\u001b[39m'\u001b[39m\u001b[39mmsedgedriver.exe\u001b[39m\u001b[39m'\u001b[39m )\n\u001b[0;32m      <a href='vscode-notebook-cell:/c%3A/PuSung/University/111_Junior/111-1%20Academic/Web%20Programming/Final/WP_Chess/auto_test_Edge.ipynb#W1sZmlsZQ%3D%3D?line=1'>2</a>\u001b[0m driver\u001b[39m.\u001b[39mget( \u001b[39m'\u001b[39m\u001b[39mhttp://localhost:3000/\u001b[39m\u001b[39m'\u001b[39m )\n\u001b[1;32m----> <a href='vscode-notebook-cell:/c%3A/PuSung/University/111_Junior/111-1%20Academic/Web%20Programming/Final/WP_Chess/auto_test_Edge.ipynb#W1sZmlsZQ%3D%3D?line=3'>4</a>\u001b[0m driver\u001b[39m.\u001b[39;49mfind_element_by_id( \u001b[39m'\u001b[39;49m\u001b[39mbasic_userName\u001b[39;49m\u001b[39m'\u001b[39;49m )\u001b[39m.\u001b[39msend_keys( \u001b[39m'\u001b[39m\u001b[39mAli\u001b[39m\u001b[39m'\u001b[39m )\n\u001b[0;32m      <a href='vscode-notebook-cell:/c%3A/PuSung/University/111_Junior/111-1%20Academic/Web%20Programming/Final/WP_Chess/auto_test_Edge.ipynb#W1sZmlsZQ%3D%3D?line=4'>5</a>\u001b[0m driver\u001b[39m.\u001b[39mfind_element_by_id( \u001b[39m'\u001b[39m\u001b[39mbasic_password\u001b[39m\u001b[39m'\u001b[39m )\u001b[39m.\u001b[39msend_keys( \u001b[39m'\u001b[39m\u001b[39m11111111\u001b[39m\u001b[39m'\u001b[39m )\n\u001b[0;32m      <a href='vscode-notebook-cell:/c%3A/PuSung/University/111_Junior/111-1%20Academic/Web%20Programming/Final/WP_Chess/auto_test_Edge.ipynb#W1sZmlsZQ%3D%3D?line=5'>6</a>\u001b[0m driver\u001b[39m.\u001b[39mfind_element_by_css_selector( \u001b[39m'\u001b[39m\u001b[39m.ant-btn-primary\u001b[39m\u001b[39m'\u001b[39m )\u001b[39m.\u001b[39mclick()\n",
      "File \u001b[1;32mc:\\Users\\PuSung\\AppData\\Local\\Programs\\Python\\Python310\\lib\\site-packages\\selenium\\webdriver\\remote\\webdriver.py:360\u001b[0m, in \u001b[0;36mWebDriver.find_element_by_id\u001b[1;34m(self, id_)\u001b[0m\n\u001b[0;32m    345\u001b[0m \u001b[39mdef\u001b[39;00m \u001b[39mfind_element_by_id\u001b[39m(\u001b[39mself\u001b[39m, id_):\n\u001b[0;32m    346\u001b[0m     \u001b[39m\"\"\"Finds an element by id.\u001b[39;00m\n\u001b[0;32m    347\u001b[0m \n\u001b[0;32m    348\u001b[0m \u001b[39m    :Args:\u001b[39;00m\n\u001b[1;32m   (...)\u001b[0m\n\u001b[0;32m    358\u001b[0m \u001b[39m        element = driver.find_element_by_id('foo')\u001b[39;00m\n\u001b[0;32m    359\u001b[0m \u001b[39m    \"\"\"\u001b[39;00m\n\u001b[1;32m--> 360\u001b[0m     \u001b[39mreturn\u001b[39;00m \u001b[39mself\u001b[39;49m\u001b[39m.\u001b[39;49mfind_element(by\u001b[39m=\u001b[39;49mBy\u001b[39m.\u001b[39;49mID, value\u001b[39m=\u001b[39;49mid_)\n",
      "File \u001b[1;32mc:\\Users\\PuSung\\AppData\\Local\\Programs\\Python\\Python310\\lib\\site-packages\\selenium\\webdriver\\remote\\webdriver.py:976\u001b[0m, in \u001b[0;36mWebDriver.find_element\u001b[1;34m(self, by, value)\u001b[0m\n\u001b[0;32m    974\u001b[0m         by \u001b[39m=\u001b[39m By\u001b[39m.\u001b[39mCSS_SELECTOR\n\u001b[0;32m    975\u001b[0m         value \u001b[39m=\u001b[39m \u001b[39m'\u001b[39m\u001b[39m[name=\u001b[39m\u001b[39m\"\u001b[39m\u001b[39m%s\u001b[39;00m\u001b[39m\"\u001b[39m\u001b[39m]\u001b[39m\u001b[39m'\u001b[39m \u001b[39m%\u001b[39m value\n\u001b[1;32m--> 976\u001b[0m \u001b[39mreturn\u001b[39;00m \u001b[39mself\u001b[39;49m\u001b[39m.\u001b[39;49mexecute(Command\u001b[39m.\u001b[39;49mFIND_ELEMENT, {\n\u001b[0;32m    977\u001b[0m     \u001b[39m'\u001b[39;49m\u001b[39musing\u001b[39;49m\u001b[39m'\u001b[39;49m: by,\n\u001b[0;32m    978\u001b[0m     \u001b[39m'\u001b[39;49m\u001b[39mvalue\u001b[39;49m\u001b[39m'\u001b[39;49m: value})[\u001b[39m'\u001b[39m\u001b[39mvalue\u001b[39m\u001b[39m'\u001b[39m]\n",
      "File \u001b[1;32mc:\\Users\\PuSung\\AppData\\Local\\Programs\\Python\\Python310\\lib\\site-packages\\selenium\\webdriver\\remote\\webdriver.py:321\u001b[0m, in \u001b[0;36mWebDriver.execute\u001b[1;34m(self, driver_command, params)\u001b[0m\n\u001b[0;32m    319\u001b[0m response \u001b[39m=\u001b[39m \u001b[39mself\u001b[39m\u001b[39m.\u001b[39mcommand_executor\u001b[39m.\u001b[39mexecute(driver_command, params)\n\u001b[0;32m    320\u001b[0m \u001b[39mif\u001b[39;00m response:\n\u001b[1;32m--> 321\u001b[0m     \u001b[39mself\u001b[39;49m\u001b[39m.\u001b[39;49merror_handler\u001b[39m.\u001b[39;49mcheck_response(response)\n\u001b[0;32m    322\u001b[0m     response[\u001b[39m'\u001b[39m\u001b[39mvalue\u001b[39m\u001b[39m'\u001b[39m] \u001b[39m=\u001b[39m \u001b[39mself\u001b[39m\u001b[39m.\u001b[39m_unwrap_value(\n\u001b[0;32m    323\u001b[0m         response\u001b[39m.\u001b[39mget(\u001b[39m'\u001b[39m\u001b[39mvalue\u001b[39m\u001b[39m'\u001b[39m, \u001b[39mNone\u001b[39;00m))\n\u001b[0;32m    324\u001b[0m     \u001b[39mreturn\u001b[39;00m response\n",
      "File \u001b[1;32mc:\\Users\\PuSung\\AppData\\Local\\Programs\\Python\\Python310\\lib\\site-packages\\selenium\\webdriver\\remote\\errorhandler.py:242\u001b[0m, in \u001b[0;36mErrorHandler.check_response\u001b[1;34m(self, response)\u001b[0m\n\u001b[0;32m    240\u001b[0m         alert_text \u001b[39m=\u001b[39m value[\u001b[39m'\u001b[39m\u001b[39malert\u001b[39m\u001b[39m'\u001b[39m]\u001b[39m.\u001b[39mget(\u001b[39m'\u001b[39m\u001b[39mtext\u001b[39m\u001b[39m'\u001b[39m)\n\u001b[0;32m    241\u001b[0m     \u001b[39mraise\u001b[39;00m exception_class(message, screen, stacktrace, alert_text)\n\u001b[1;32m--> 242\u001b[0m \u001b[39mraise\u001b[39;00m exception_class(message, screen, stacktrace)\n",
      "\u001b[1;31mNoSuchElementException\u001b[0m: Message: no such element: Unable to locate element: {\"method\":\"css selector\",\"selector\":\"[id=\"basic_userName\"]\"}\n  (Session info: MicrosoftEdge=108.0.1462.54)\n"
     ]
    }
   ],
   "source": [
    "driver = webdriver.Edge( executable_path='msedgedriver.exe' )\n",
    "driver.get( 'http://localhost:3000/' )\n",
    "\n",
    "driver.find_element_by_id( 'basic_userName' ).send_keys( 'Ali' )\n",
    "driver.find_element_by_id( 'basic_password' ).send_keys( '11111111' )\n",
    "driver.find_element_by_css_selector( '.ant-btn-primary' ).click()\n",
    "time.sleep( 0.5 )\n",
    "driver.find_elements_by_css_selector( '.ant-btn-primary' )[ 1 ].click()\n",
    "time.sleep( 0.5 )\n",
    "gameID = driver.find_element_by_css_selector( '.cslrZV > p' ).text[ 13: ]\n",
    "\n",
    "driver.execute_script( f'window.open(\"http://localhost:3000/\");' )\n",
    "driver.switch_to.window( driver.window_handles[ 1 ] )\n",
    "driver.find_element_by_id( 'basic_userName' ).send_keys( 'Pui' )\n",
    "driver.find_element_by_id( 'basic_password' ).send_keys( '22222222' )\n",
    "driver.find_element_by_css_selector( '.ant-btn-primary' ).click()\n",
    "time.sleep( 0.5 )\n",
    "driver.find_element_by_css_selector( '.ant-input' ).send_keys(gameID)\n",
    "time.sleep( 0.5 )\n",
    "driver.find_element_by_css_selector( '.ant-btn' ).click()\n",
    "\n",
    "driver.execute_script( f'window.open(\"http://localhost:3000/\");' )\n",
    "driver.switch_to.window( driver.window_handles[ 2 ] )\n",
    "driver.find_element_by_id( 'basic_userName' ).send_keys( 'Ali' )\n",
    "driver.find_element_by_id( 'basic_password' ).send_keys( '11111111' )\n",
    "driver.find_element_by_css_selector( '.ant-btn-primary' ).click()"
   ]
  },
  {
   "cell_type": "code",
   "execution_count": null,
   "metadata": {},
   "outputs": [],
   "source": []
  }
 ],
 "metadata": {
  "kernelspec": {
   "display_name": "Python 3",
   "language": "python",
   "name": "python3"
  },
  "language_info": {
   "codemirror_mode": {
    "name": "ipython",
    "version": 3
   },
   "file_extension": ".py",
   "mimetype": "text/x-python",
   "name": "python",
   "nbconvert_exporter": "python",
   "pygments_lexer": "ipython3",
   "version": "3.9.6 (default, Aug  5 2022, 15:21:02) \n[Clang 14.0.0 (clang-1400.0.29.102)]"
  },
  "orig_nbformat": 4,
  "vscode": {
   "interpreter": {
    "hash": "31f2aee4e71d21fbe5cf8b01ff0e069b9275f58929596ceb00d14d90e3e16cd6"
   }
  }
 },
 "nbformat": 4,
 "nbformat_minor": 2
}
